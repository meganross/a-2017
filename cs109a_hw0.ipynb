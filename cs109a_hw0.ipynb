{
 "cells": [
  {
   "cell_type": "markdown",
   "metadata": {},
   "source": [
    "### CS 109A/STAT 121A/AC 209A/CSCI E-109A\n",
    "\n",
    "# Homework 0\n",
    "\n",
    "**Harvard University**<br/>\n",
    "**Fall 2017**<br/>\n",
    "**Instructors**: Pavlos Protopapas, Kevin Rader, Rahul Dave, Margo Levine\n",
    "\n",
    "---\n",
    "\n",
    "This is a homework which you must  turn in.\n",
    "\n",
    "This homework has the following intentions:\n",
    "\n",
    "1. To get you familiar with the jupyter/python environment (whether you are using your own install or jupyterhub)\n",
    "2. You should easily understand these questions and what is being asked. If you struggle, this may not be the right class for you.\n",
    "3. You should be able to understand the intent (if not the exact syntax) of the code and be able to look up google and provide code that is asked of you. If you cannot, this may not be the right class for you."
   ]
  },
  {
   "cell_type": "code",
   "execution_count": 2,
   "metadata": {
    "collapsed": true
   },
   "outputs": [],
   "source": [
    "# The line %... is a jupyter \"magic\" command, and is not part of the Python language.\n",
    "# In this case we're just telling the plotting library to draw things on\n",
    "# the notebook, instead of on a separate window.\n",
    "%matplotlib inline\n",
    "# See the \"import ... as ...\" contructs below? They're just aliasing the package names.\n",
    "# That way we can call methods like plt.plot() instead of matplotlib.pyplot.plot().\n",
    "import numpy as np\n",
    "import matplotlib.pyplot as plt"
   ]
  },
  {
   "cell_type": "markdown",
   "metadata": {},
   "source": [
    "## Simulation of a coin throw\n",
    "\n",
    "We dont have a coin right now. So let us **simulate** the process of throwing one on a computer. To do this we will use a form of the **random number generator** built into `numpy`. In particular, we will use the function `np.random.choice`, which will pick items with uniform probability from a list (thus if the list is of size 6, it will pick one of the six list items each time, with a probability 1/6). "
   ]
  },
  {
   "cell_type": "code",
   "execution_count": 3,
   "metadata": {},
   "outputs": [
    {
     "name": "stdout",
     "output_type": "stream",
     "text": [
      "Throws ['T' 'H' 'T' 'H' 'H' 'T' 'H' 'H' 'H' 'T' 'T' 'H' 'H' 'H' 'H' 'H' 'T' 'T'\n",
      " 'H' 'H' 'H' 'H' 'H' 'T' 'T' 'H' 'H' 'H' 'T' 'T' 'H' 'H' 'T' 'H' 'T' 'H'\n",
      " 'T' 'H' 'T' 'H']\n"
     ]
    }
   ],
   "source": [
    "def throw_a_coin(N):\n",
    "    return np.random.choice(['H','T'], size=N)\n",
    "\n",
    "throws = throw_a_coin(40)\n",
    "print(\"Throws\",throws)"
   ]
  },
  {
   "cell_type": "markdown",
   "metadata": {},
   "source": [
    "This next line gives you a `True` when the array element is a 'H' and `False` otherwise."
   ]
  },
  {
   "cell_type": "code",
   "execution_count": 4,
   "metadata": {},
   "outputs": [
    {
     "data": {
      "text/plain": [
       "array([False,  True, False,  True,  True, False,  True,  True,  True,\n",
       "       False, False,  True,  True,  True,  True,  True, False, False,\n",
       "        True,  True,  True,  True,  True, False, False,  True,  True,\n",
       "        True, False, False,  True,  True, False,  True, False,  True,\n",
       "       False,  True, False,  True], dtype=bool)"
      ]
     },
     "execution_count": 4,
     "metadata": {},
     "output_type": "execute_result"
    }
   ],
   "source": [
    "throws == 'H'"
   ]
  },
  {
   "cell_type": "markdown",
   "metadata": {},
   "source": [
    "If you do a `np.sum` on the array of `True`s and `False`s, python will coerce the `True` to 1 and `False` to 0. Thus a sum will give you the number of heads"
   ]
  },
  {
   "cell_type": "code",
   "execution_count": 5,
   "metadata": {},
   "outputs": [
    {
     "data": {
      "text/plain": [
       "25"
      ]
     },
     "execution_count": 5,
     "metadata": {},
     "output_type": "execute_result"
    }
   ],
   "source": [
    "np.sum(throws == 'H')"
   ]
  },
  {
   "cell_type": "code",
   "execution_count": 6,
   "metadata": {},
   "outputs": [
    {
     "name": "stdout",
     "output_type": "stream",
     "text": [
      "Number of Heads: 25\n",
      "p1 = Number of Heads/Total Throws: 0.625\n"
     ]
    }
   ],
   "source": [
    "print(\"Number of Heads:\", np.sum(throws == 'H'))\n",
    "print(\"p1 = Number of Heads/Total Throws:\", np.sum(throws == 'H')/40.) # you can also do np.mean(throws=='H')"
   ]
  },
  {
   "cell_type": "markdown",
   "metadata": {},
   "source": [
    "Notice that you do not necessarily get 20 heads.\n",
    "\n",
    "Now say that we run the entire process again, a second **replication** to obtain a second sample. Then we ask the same question: what is the fraction of heads we get this time? Lets call the odds of heads in sample 2, then, $p_2$:"
   ]
  },
  {
   "cell_type": "code",
   "execution_count": 7,
   "metadata": {},
   "outputs": [
    {
     "name": "stdout",
     "output_type": "stream",
     "text": [
      "Throws: ['T' 'H' 'H' 'H' 'T' 'T' 'H' 'T' 'H' 'T' 'T' 'H' 'H' 'H' 'H' 'H' 'H' 'H'\n",
      " 'H' 'H' 'T' 'T' 'H' 'T' 'T' 'H' 'T' 'T' 'H' 'H' 'T' 'T' 'T' 'T' 'H' 'T'\n",
      " 'H' 'T' 'H' 'T']\n",
      "Number of Heads: 21\n",
      "p2 = Number of Heads/Total Throws: 0.525\n"
     ]
    }
   ],
   "source": [
    "throws = throw_a_coin(40)\n",
    "print(\"Throws:\", throws)\n",
    "print(\"Number of Heads:\", np.sum(throws == 'H'))\n",
    "print(\"p2 = Number of Heads/Total Throws:\", np.sum(throws ==  'H')/40.)"
   ]
  },
  {
   "cell_type": "markdown",
   "metadata": {},
   "source": [
    "### Q1. Show what happens as we choose a larger and larger set of trials\n",
    "\n",
    "Do one replication for each size in the trials array below. Store the resultant probabilities in an array `probabilities`. Write a few lines on what you observe."
   ]
  },
  {
   "cell_type": "code",
   "execution_count": 8,
   "metadata": {
    "collapsed": true
   },
   "outputs": [],
   "source": [
    "trials = [10, 30, 50, 70, 100, 130, 170, 200, 500, 1000, 2000, 5000, 10000]"
   ]
  },
  {
   "cell_type": "code",
   "execution_count": 9,
   "metadata": {},
   "outputs": [
    {
     "name": "stdout",
     "output_type": "stream",
     "text": [
      "[0.80000000000000004, 0.53333333333333333, 0.47999999999999998, 0.52857142857142858, 0.5, 0.5, 0.5, 0.53500000000000003, 0.51400000000000001, 0.495, 0.502, 0.50160000000000005, 0.50370000000000004]\n"
     ]
    }
   ],
   "source": [
    "# your code here\n",
    "probabilities = []\n",
    "for t in trials:\n",
    "    throws = throw_a_coin(t)\n",
    "    probabilities.append(np.mean(throws=='H')) \n",
    "print(probabilities)"
   ]
  },
  {
   "cell_type": "code",
   "execution_count": 10,
   "metadata": {},
   "outputs": [
    {
     "data": {
      "image/png": "[encoded data removed]",
      "text/plain": [
       "<matplotlib.figure.Figure at 0x10ea7de48>"
      ]
     },
     "metadata": {},
     "output_type": "display_data"
    }
   ],
   "source": [
    "plt.plot(trials, probabilities, 'o-', alpha=0.6);\n",
    "plt.axhline(0.5, 0, 1, color='r');\n",
    "plt.xlabel('number of trials');\n",
    "plt.ylabel('probability of heads from simulation');\n",
    "plt.title('Probability of heads, one replication per trial size');"
   ]
  },
  {
   "cell_type": "markdown",
   "metadata": {},
   "source": [
    "What did you observe?\n",
    "\n",
    "For the lower numbers of trials, the probability estimate (p) varies quite a bit from the actual probability of getting a heads, 0.5.  However as the number of trials increases, p approaches 0.5.\n"
   ]
  },
  {
   "cell_type": "markdown",
   "metadata": {},
   "source": [
    "## Multiple replications of the coin flips\n",
    "\n",
    "Lets redo the experiment with coin flips that we started above. We'll establish some terminology at first. As notation we shall call the size of the trial of coin flips $n$. We'll call the result of each coin flip an observation, and a single replication (which is what we did above) a sample of observations. We will do $M$ replications (or $M$ \"samples\"), for which the variable in the function below is `number_of_samples` now, for each sample size $n$ (`sample_size`)."
   ]
  },
  {
   "cell_type": "markdown",
   "metadata": {},
   "source": [
    "### Q2. Write a function to make M replications of N throws\n",
    "\n",
    "Your job is to write a function `make_throws` which takes as arguments the `number_of_samples` (M) and the `sample_size` (n), and returns a list of probablities of size M, with each probability coming from a different replication of size n. In each replication we do n coin tosses. We have provided a \"spec\" of the function below. "
   ]
  },
  {
   "cell_type": "code",
   "execution_count": 11,
   "metadata": {
    "collapsed": true
   },
   "outputs": [],
   "source": [
    "\"\"\"\n",
    "Function\n",
    "--------\n",
    "make_throws\n",
    "\n",
    "Generate a array of probabilities, each representing\n",
    "the probability of finding heads in a sample of fair coins\n",
    "\n",
    "Parameters\n",
    "----------\n",
    "number_of_samples : int\n",
    "    The number of samples or replications\n",
    "sample_size: int\n",
    "    The size of each sample (we assume each sample has the same size)\n",
    "\n",
    "Returns\n",
    "-------\n",
    "sample_probs : array\n",
    "    Array of probabilities of H, one from each sample or replication\n",
    "\n",
    "Example\n",
    "-------\n",
    ">>> make_throws(number_of_samples = 3, sample_size = 20)\n",
    "[0.40000000000000002, 0.5, 0.59999999999999998]\n",
    "\"\"\"\n",
    "# your code here\n",
    "\n",
    "def make_throws(number_of_samples : int, sample_size : int):\n",
    "    means = []\n",
    "    for i in range(number_of_samples):\n",
    "        throws = throw_a_coin(sample_size)\n",
    "        means.append(np.mean(throws=='H'))\n",
    "    return means"
   ]
  },
  {
   "cell_type": "markdown",
   "metadata": {},
   "source": [
    "We show the mean over the observations, or sample mean, for a sample size of 10, with 20 replications. There are thus 20 means."
   ]
  },
  {
   "cell_type": "code",
   "execution_count": 12,
   "metadata": {},
   "outputs": [
    {
     "data": {
      "text/plain": [
       "[0.29999999999999999,\n",
       " 0.20000000000000001,\n",
       " 0.40000000000000002,\n",
       " 0.59999999999999998,\n",
       " 0.59999999999999998,\n",
       " 0.80000000000000004,\n",
       " 0.59999999999999998,\n",
       " 0.59999999999999998,\n",
       " 0.40000000000000002,\n",
       " 0.59999999999999998,\n",
       " 0.59999999999999998,\n",
       " 0.29999999999999999,\n",
       " 0.5,\n",
       " 0.40000000000000002,\n",
       " 0.5,\n",
       " 0.59999999999999998,\n",
       " 0.40000000000000002,\n",
       " 0.5,\n",
       " 0.69999999999999996,\n",
       " 0.40000000000000002]"
      ]
     },
     "execution_count": 12,
     "metadata": {},
     "output_type": "execute_result"
    }
   ],
   "source": [
    "make_throws(number_of_samples=20, sample_size=10)"
   ]
  },
  {
   "cell_type": "markdown",
   "metadata": {},
   "source": [
    "### Q3. What happens to the mean and standard deviation of the sample means as you increase the sample size\n",
    "\n",
    "Using the sample sizes from the `sample_sizes` array below, compute a set of sample_means for each sample size, and for 200 replications. Calculate the mean and standard deviation for each sample size. Store this in arrays `mean_of_sample_means` and `std_dev_of_sample_means`. The standard deviation of the sampling means is called the \"standard error\". Explain what you see about this \"mean of sampling means\"."
   ]
  },
  {
   "cell_type": "code",
   "execution_count": 13,
   "metadata": {
    "collapsed": true
   },
   "outputs": [],
   "source": [
    "sample_sizes = np.arange(1,1001,1)"
   ]
  },
  {
   "cell_type": "code",
   "execution_count": 14,
   "metadata": {},
   "outputs": [
    {
     "name": "stdout",
     "output_type": "stream",
     "text": [
      "[0.49909918853871116, 0.34278273002005222, 0.28904055847656479, 0.25616157010761781, 0.22697797249953575, 0.2130972000441739, 0.19011811581010282, 0.18005966892949682, 0.16625040610736622, 0.16133737942584786, 0.16320903799313513, 0.13787826756478583, 0.13345655056074979, 0.1242482496899671, 0.13378216124232209, 0.13467408575891651, 0.12052329671853122, 0.12642734457699459, 0.12743365010881311, 0.10897247358851683, 0.11605671457409272, 0.10362739195616361, 0.094502727978948514, 0.1068804823155285, 0.09512181663530192, 0.085753706770331908, 0.095077760392543981, 0.093120505644184365, 0.095681888470142779, 0.085111691323812855, 0.087201251554279172, 0.093916388803751916, 0.086509578974595644, 0.087449441646534593, 0.087262096407247483, 0.086526663092516901, 0.075906862117870774, 0.078261826166420675, 0.069952435234709828, 0.081352243361815166, 0.073333051664232929, 0.076395186299896667, 0.074088566852361815, 0.078342857401202337, 0.069540910776354783, 0.078012816430444346, 0.070338298483755349, 0.07418539089485357, 0.075272377816439237, 0.068565224421713949, 0.072104560648284924, 0.066655563362850168, 0.070210739077497766, 0.069227500640952969, 0.0693005789870033, 0.060935455878849923, 0.065566874880259154, 0.063178775466458198, 0.066907249276483297, 0.065027718448878905, 0.063327881583580672, 0.062534901805380114, 0.064229644370208117, 0.061685661620909722, 0.056644641270074111, 0.061563227593552441, 0.05672972153477604, 0.064325040663814448, 0.06206131488530521, 0.062749745913787541, 0.063072177569955437, 0.060993850567895497, 0.058904069767428402, 0.054844890519264625, 0.058141742511058456, 0.056899185521581866, 0.057494454036002098, 0.055849154342412888, 0.059681060930656088, 0.061190149329773659, 0.058912016319415547, 0.054317461967570368, 0.055161746355565928, 0.054699239507703293, 0.054341958401465204, 0.055205501328767219, 0.053987638226287299, 0.052755184618502017, 0.051669636093440136, 0.051846133943991152, 0.050020373822748147, 0.049865100393362047, 0.051564829762164165, 0.054774321965344687, 0.04647866099596501, 0.05004295030271496, 0.047184267352120474, 0.054867129648528072, 0.050413148708424116, 0.050797613132902222, 0.050075915312482337, 0.049056358772585296, 0.050855254906890683, 0.051254938245271817, 0.053585797014912034, 0.048977712326473355, 0.046748033495417805, 0.048299619290362576, 0.049814042718379005, 0.0503671643004589, 0.045267468874821436, 0.041668768548175604, 0.051035099765727281, 0.041720625264775719, 0.043441527961235495, 0.041872753813077618, 0.046677231827430207, 0.046559120735282698, 0.045349333364221985, 0.043755872621728038, 0.045079671292970275, 0.042528090373789088, 0.047740246531332076, 0.045262684995100118, 0.043054551443488534, 0.044920056505334337, 0.043077343364174896, 0.041903267045213792, 0.041466546645648007, 0.042095341208728654, 0.045114939742924312, 0.045658067095630431, 0.040821944042174693, 0.045051377195521866, 0.04552242095196439, 0.042212527018454328, 0.043040556192150206, 0.040793288235313412, 0.042293103322951914, 0.044145573194297308, 0.03983579734312187, 0.041856097527340159, 0.042155349020314134, 0.03806973010047273, 0.039898801832057178, 0.042695962402544023, 0.037766300355569479, 0.042796680714799938, 0.041828707629411155, 0.037852990488056411, 0.039665280824326465, 0.037513790169864038, 0.042397789032504019, 0.037160775239410651, 0.04164363706263384, 0.040814963867148772, 0.040581996677077736, 0.039071079213306673, 0.040423130857547514, 0.038837791176089043, 0.038467769613326395, 0.039542373460471056, 0.038312269442539952, 0.037898732828812953, 0.039443837861837056, 0.037673294366616455, 0.038102269762102882, 0.037713853093207732, 0.038671242153749674, 0.036616359533234978, 0.037007149118414628, 0.037764201355280413, 0.038650556032738793, 0.037316512829305579, 0.038875951330311319, 0.034184990918246255, 0.036311249149158384, 0.037393918465976818, 0.03814451133782501, 0.033385503156125325, 0.038425315067929573, 0.035846911396041813, 0.034644808743169407, 0.036582950451065376, 0.032793831039895166, 0.034409064177005559, 0.036377160114994839, 0.035914104244123411, 0.035881199219563488, 0.033975875423649118, 0.039902570414471566, 0.035785608965445567, 0.03593292265973682, 0.035610974993881862, 0.033852747997888545, 0.034016869528756502, 0.034268273840041726, 0.035252054930149615, 0.041451339606980761, 0.033204066016077019, 0.03439232629695374, 0.032027981345378251, 0.036173193992239394, 0.035054983724012924, 0.036779970236379141, 0.034256499424946379, 0.032135445806357348, 0.033495152973886874, 0.035497354199580007, 0.037412785959989432, 0.033510150555425729, 0.036181920395061205, 0.035350553931306886, 0.03684868335647995, 0.034233284876006839, 0.033882998564696926, 0.035824558464106836, 0.035584150947720321, 0.032268311504596046, 0.034802839012152226, 0.033037996047863796, 0.034322661696271857, 0.033360026547232809, 0.03231908535310405, 0.034511039564925482, 0.032904641970871881, 0.034911414830154752, 0.033592246708653732, 0.035476983380815168, 0.034369173333299231, 0.032271783646318226, 0.034704774236205153, 0.030470621979363059, 0.031157070167203579, 0.03094816706715697, 0.033468112441793707, 0.030841659515775922, 0.03056846138025255, 0.033607052957798221, 0.029732538935109087, 0.034061411435395109, 0.031138433796284101, 0.032511792172321537, 0.031921757299512118, 0.031765356929753449, 0.030323071210389931, 0.029874153479901876, 0.034552263833273818, 0.032392863287679943, 0.028135642875185923, 0.031421510347512706, 0.032395823839537999, 0.031619836948406053, 0.031904803491527287, 0.029878486446371883, 0.030130711943896941, 0.032674076424257209, 0.030872184265328898, 0.031481059071229944, 0.033476339564696846, 0.031259672098721963, 0.032417586785379142, 0.02911442870462291, 0.030679474049996176, 0.030174755043523249, 0.032519883505687297, 0.029706560983421025, 0.030773737684163204, 0.029673898921799186, 0.03167649836545771, 0.030437749776052483, 0.031786888870503578, 0.030369260671286764, 0.028147276373458579, 0.03241056862626273, 0.031677526078832459, 0.031243141018960037, 0.028858198108231412, 0.029300740958052504, 0.028482221226940996, 0.033432070828570075, 0.0287162892860243, 0.029075475251868228, 0.03173986220679241, 0.030752134103565375, 0.027784549831697657, 0.031345210917259142, 0.02699335123326611, 0.027959414275649137, 0.029646705888440154, 0.029308504550131124, 0.028475564045357511, 0.02861798148312494, 0.029577910359735591, 0.028035845238072583, 0.031877358690427272, 0.030198303882703462, 0.030114696739075769, 0.028473129780073984, 0.02611167788982972, 0.027181638263790244, 0.030195475714933778, 0.03044722150523993, 0.029492677004362571, 0.027739211484877166, 0.027472248025072733, 0.026338234293585967, 0.02723071419985227, 0.028339385631234556, 0.026351852596653513, 0.026898557147729825, 0.02638343776962588, 0.028305320933218924, 0.026975100385596612, 0.028619320531496819, 0.02807156012733697, 0.028108083097214128, 0.028489229701954371, 0.02582752038332084, 0.02859808710276791, 0.028474606651530652, 0.027974415933821935, 0.027616545936214359, 0.030159860712820535, 0.026099087471862025, 0.022949131834620974, 0.026958257640025969, 0.029487299107758828, 0.027340417084126826, 0.026947556455049343, 0.028127131595742223, 0.027233829788996793, 0.024495081506846147, 0.028602292531947768, 0.030264358374777003, 0.028774867855903639, 0.023866381404537357, 0.025093902983552317, 0.025917266306247643, 0.025799394959510513, 0.025436730221232117, 0.027423159634646792, 0.027628883295191819, 0.024915245564378075, 0.027253838016331897, 0.026759806423082778, 0.028444661713431022, 0.026978883316389122, 0.026949025766015336, 0.024022030704827464, 0.030053185647804993, 0.025811152205772726, 0.028055339157257671, 0.026243983090846957, 0.026048510434456652, 0.02358699351545452, 0.028446722822794882, 0.026483908856039306, 0.026569111167605703, 0.028015978685892722, 0.025307915684560759, 0.027573956180251328, 0.027500219908755983, 0.026886577496039718, 0.026968115004053089, 0.027974856657979309, 0.025432708868641244, 0.024989290593695965, 0.027862505457093682, 0.027647311135121096, 0.024639240691128335, 0.026898704312207471, 0.025442853626929954, 0.024087091728396112, 0.023012329062676144, 0.023858488011684893, 0.025432548310692256, 0.024726478864441622, 0.027902143876488317, 0.024444181425037865, 0.026750789564433337, 0.025821761160206791, 0.026399229775468252, 0.026186045086042758, 0.024133039787346197, 0.024661402707147877, 0.023490006566532717, 0.02712264894650273, 0.029016338708639768, 0.024423527824089946, 0.026379282710892779, 0.0246923720604919, 0.024642813492691731, 0.026650806722915435, 0.027108285766280913, 0.024865208377251091, 0.024563491841203072, 0.024996792804555464, 0.024626630054598551, 0.025084058682757066, 0.025444203856743987, 0.024432973976193591, 0.024993687976572618, 0.025531359321298509, 0.023087079940385575, 0.026819343591188691, 0.025339043229462246, 0.024797087792815788, 0.02624771243905016, 0.026522357645696937, 0.025037521939463986, 0.024222373734612383, 0.023589969713487483, 0.023222269832894094, 0.025745133015815484, 0.023244928181420425, 0.024517141084782167, 0.02325112712670626, 0.026158908796182358, 0.02430314208943982, 0.025623222998251368, 0.022937593010368792, 0.022926807920526114, 0.02354914446829607, 0.024060819707206544, 0.025404546607645965, 0.023470643156338129, 0.024962851253460993, 0.025652654176038969, 0.025533136298069463, 0.021985163623082313, 0.024492184722536562, 0.023202861559227839, 0.023583925765299864, 0.021814868611461809, 0.026915271984591663, 0.021713796511457412, 0.024354257013042429, 0.024809703775017202, 0.023880199879418761, 0.023085278438291005, 0.02411204070482478, 0.02406095803480442, 0.023443079071118478, 0.02228596099719482, 0.022390011486595644, 0.0247125900111731, 0.025192159988069247, 0.023718268008441328, 0.022911649955943893, 0.021974723692784651, 0.024653104170993929, 0.024885931405885013, 0.023966579679380026, 0.021080781482308537, 0.023674357823104966, 0.021458531361675047, 0.023452340516466812, 0.025746242095021642, 0.022464630359796005, 0.023810513668715189, 0.0231095858904262, 0.021667144509861683, 0.022060205759994751, 0.020434079975992461, 0.022749713856612699, 0.021930320892667825, 0.023661669484278926, 0.020359891663664451, 0.021479287189759631, 0.025431123372015908, 0.021968896030774371, 0.02237091933326113, 0.02293296252893973, 0.023018633906581161, 0.022934547861894857, 0.021242905828587278, 0.023602737706766661, 0.023362817828353963, 0.023292477251846307, 0.02342698657017693, 0.022069050441278482, 0.021470226364249417, 0.021865430229855317, 0.022601728555616603, 0.023153945318894968, 0.023586234948068864, 0.021999644883497552, 0.022995396266723925, 0.021517008953438999, 0.021618269195519395, 0.022796958086635899, 0.023170780133292924, 0.020594626767056094, 0.021056647642921884, 0.020962776145071454, 0.021814651419494482, 0.02295137680679446, 0.022882744272964838, 0.021145212224047329, 0.02260143925669068, 0.02247943978598789, 0.024633354005667057, 0.022290101473720188, 0.021746541505360543, 0.022320012776957426, 0.020582295864586965, 0.023077665464303065, 0.022406298633571232, 0.023317211022614304, 0.021677266781794206, 0.021912800417645269, 0.019615251290995204, 0.02438385145008715, 0.020593235443391554, 0.021827935002412924, 0.020157523094630245, 0.022093715351122544, 0.02113974112902103, 0.02306413106995003, 0.019928177280770759, 0.02099029259934216, 0.022338226400146363, 0.021663119415680134, 0.021755608133554233, 0.02115995203436034, 0.023035285273661301, 0.021493081052839761, 0.020761168091792456, 0.021262033009658527, 0.020154979560421303, 0.02211644901372398, 0.020850075523996637, 0.020097838584489908, 0.022113816386720896, 0.02016372476481413, 0.020704233121554567, 0.021024424769605501, 0.021757263534902649, 0.022493283176669508, 0.021211457829731079, 0.020661537782318641, 0.018985447373257587, 0.022716972082186232, 0.022265433210113011, 0.020911219783373788, 0.023514091788933208, 0.020090934251192166, 0.021890958642593467, 0.020559880293570542, 0.021601745370350159, 0.021135099852696435, 0.021895620542500483, 0.019663030782379444, 0.022217874747207635, 0.022149512422951986, 0.021220635990243861, 0.022483075243880418, 0.020574931794087543, 0.020415603713826346, 0.019983240044046245, 0.021027630417914157, 0.02164669170322249, 0.020956786779636721, 0.021021832849196863, 0.020155092634815183, 0.021854191540948191, 0.021394836757335656, 0.0200782996619468, 0.022152745925658603, 0.021709252575100386, 0.020702857067267641, 0.020570986446991766, 0.019695025635179119, 0.020872664624920882, 0.0224746255426473, 0.020996258414254527, 0.02055360227124766, 0.020979499688332667, 0.020034851842407161, 0.021920642300126698, 0.020091340883175452, 0.020213065521935174, 0.020073049225099861, 0.02278163563167061, 0.019973424083747703, 0.02047271928110304, 0.020673542068065095, 0.02074485440659693, 0.020865060778140463, 0.020771637283165674, 0.020222466153427373, 0.021231556061262181, 0.020964792873219253, 0.020543728260700791, 0.020497970972632028, 0.021977160629548336, 0.020128632715929986, 0.019358727045434596, 0.019192444621661812, 0.020746663768404314, 0.019741432957864378, 0.021696784300243323, 0.01889014079914253, 0.018647952270923498, 0.02149634314674961, 0.018681227446039162, 0.019984396979671443, 0.019735443579057245, 0.019908685319281281, 0.021483969891102284, 0.019895889422401083, 0.020578133028317992, 0.020591311551920104, 0.018481731346083722, 0.020406998373684097, 0.018499935376660951, 0.019901228649785246, 0.019808719824360582, 0.019180471283783775, 0.018741690669884157, 0.020535424590533584, 0.020269751325684485, 0.020148684499906162, 0.020162437947827645, 0.021026938466871294, 0.020906596833965098, 0.019235108556822509, 0.021483449841206256, 0.017781256745764789, 0.019108340563800202, 0.019038984029999293, 0.020165056859701096, 0.0195173325671587, 0.020669360329843612, 0.019523324432252579, 0.019936511873119064, 0.018729791047160042, 0.020713366967056411, 0.019158155237636403, 0.019991279029105056, 0.019406497923731714, 0.02030767764762299, 0.020167572204313037, 0.020202091766648621, 0.017561160503569546, 0.020881233717480321, 0.019114756883308024, 0.020259357607079791, 0.019259656764808269, 0.019968331243063887, 0.019823225067568877, 0.017959726158332322, 0.020353835842066008, 0.02081112041532052, 0.019231498521841656, 0.019302066850711504, 0.018046650130056217, 0.019878254986569779, 0.019051040621455052, 0.018146115144129529, 0.019686204903498379, 0.021017849245795934, 0.020054671745828253, 0.018362852667154966, 0.018779622987559422, 0.021414161063753167, 0.02007886172953614, 0.019709663754487045, 0.018973871424585755, 0.018299507938146095, 0.018545935790344178, 0.019463584439311073, 0.018298045808095964, 0.019248287473038184, 0.018015405777585081, 0.019513215101609784, 0.019485662642912845, 0.018269629745347262, 0.019959604533877642, 0.01892559755126403, 0.020107745479398989, 0.017476128846379273, 0.020220570706240153, 0.018143201717297074, 0.018858822052018741, 0.018152608431475644, 0.019450899146469771, 0.019993077631480182, 0.018931329657372015, 0.01836324475807102, 0.017595104173274694, 0.018607552565417591, 0.019464885554124383, 0.016932604940984999, 0.018712776004131945, 0.019022485844207227, 0.019377815649058723, 0.017394537633414437, 0.017194444700874428, 0.020562672950705067, 0.01947704367908604, 0.019314727956905912, 0.018879091380706162, 0.018271176028023195, 0.017202279873841715, 0.018837279862549457, 0.018467684263186627, 0.018364248933302504, 0.018436097863260684, 0.017700403780304241, 0.019291014097052812, 0.019194464336239871, 0.019527836723812097, 0.017912496979660856, 0.018240532252897981, 0.019488955820558058, 0.018464284747078726, 0.018967946419337373, 0.017378489912855909, 0.019146965284671608, 0.017439642220269867, 0.019222046128004034, 0.019196589551149109, 0.019609960098819403, 0.017350730718794113, 0.017166657847842284, 0.017403228173629808, 0.019065674558541641, 0.018899518005015836, 0.016829885166682414, 0.017877329949965309, 0.018280420872928044, 0.018755913618742685, 0.017648307854921119, 0.017897677309329271, 0.017529305652301153, 0.019699165135297233, 0.01803514161072475, 0.019999999999999993, 0.018391957962116741, 0.019787740151719472, 0.018812011431523289, 0.019603005042157517, 0.017672015210952696, 0.019226235520997472, 0.016900241214616606, 0.019363619933919753, 0.018062895104539921, 0.019033854050086649, 0.017394956900186668, 0.017913412499341051, 0.017475846337399015, 0.017055744169975403, 0.019130266770378459, 0.017265102381772097, 0.015860846303155096, 0.019071261277955935, 0.017588000152916582, 0.016831822518891981, 0.017279250323988662, 0.017229215677401353, 0.016947937141707906, 0.017962282527088841, 0.019493856040851687, 0.017615072430885975, 0.01711590695157806, 0.019465928092427701, 0.018897624923408417, 0.01701744761589578, 0.01859913925637478, 0.017645910512152502, 0.01812774614186009, 0.017759003028616174, 0.017784080149498532, 0.018336007781654711, 0.016532721301118245, 0.018241746499430604, 0.016972475164645236, 0.017602520916151478, 0.017600748944020719, 0.016818219666143799, 0.016778707680842254, 0.016252402667343509, 0.017551250998693296, 0.016930891924536038, 0.017458665791782901, 0.017400729757874326, 0.017808274561208617, 0.017268670419241593, 0.018830788336578339, 0.018663263781984085, 0.018700712951407378, 0.01840505803812427, 0.016532967952262816, 0.017254996542572818, 0.017738846320032014, 0.017912257206594239, 0.015914940073262301, 0.018221766474123744, 0.0184747432265733, 0.017314668098389642, 0.016796855679491619, 0.018320367773317761, 0.017944889464878756, 0.017347890385843435, 0.016843598427743956, 0.020267104690750212, 0.01677710105663199, 0.017691991235555763, 0.016856729224629132, 0.016832951606461768, 0.016296966728380217, 0.017183759465983675, 0.017172387366841253, 0.016917939871462631, 0.017789694496265569, 0.01854384110097795, 0.017140956832639432, 0.018049372724297956, 0.016896007443783924, 0.017461451589251321, 0.017408303629436579, 0.017926770236210834, 0.01742440052629194, 0.018231053738170466, 0.017257117540659939, 0.017926611290979815, 0.017746929996749344, 0.017964537210401955, 0.016788185372185738, 0.01597335420516334, 0.01802476034808138, 0.017343613867364226, 0.016716430898842279, 0.016226303618937631, 0.018007513909990173, 0.017107776428274046, 0.017100230968254863, 0.016876769874432661, 0.017553361486914738, 0.016397712819092799, 0.016315404287736233, 0.01825328778584627, 0.017189119960993846, 0.01634597387792772, 0.018873885184044939, 0.018191730470017691, 0.017143956413734715, 0.016666913954336168, 0.017586911483768154, 0.016633752752823652, 0.01733940959812301, 0.017290581271406841, 0.019015385820890091, 0.016716386586823499, 0.016162790723871501, 0.01690301291067214, 0.017001481363556628, 0.017054235377002781, 0.016855205371704568, 0.017171724928345618, 0.016609518673918681, 0.017221424930519459, 0.017199335274466987, 0.017643782562507284, 0.017559180481272099, 0.018325194030480323, 0.016816203423121508, 0.016657261515933514, 0.0159384189566735, 0.017030642799587967, 0.018440259982621315, 0.017565667203575625, 0.017777868378453944, 0.016828218716923946, 0.016529074784283591, 0.016635140108411838, 0.0171581814257365, 0.016519060451878308, 0.01711971900477155, 0.016775477982006241, 0.016078827351611279, 0.01720616125149918, 0.016891593413703748, 0.017578584648667992, 0.017203245934813732, 0.017970358561458032, 0.017323185247646276, 0.017435566811162519, 0.01736716380337075, 0.015871287111630949, 0.016086299286274648, 0.015241119171060736, 0.01678610966637762, 0.016543642398052581, 0.016278599760802346, 0.016652389375531842, 0.016916820312320075, 0.015490768856098989, 0.017425237880790166, 0.017817175232781639, 0.016276085299082806, 0.017255399745740696, 0.016153939375069312, 0.017151550776781283, 0.017043149070770404, 0.015786495125921046, 0.016396621203738533, 0.016525090429223024, 0.017221428394295711, 0.017198001772197987, 0.016152241297187977, 0.015785845801395706, 0.01516461771709195, 0.015727450825658414, 0.01699821796895358, 0.016486272229580965, 0.016471991193617749, 0.016240591830814631, 0.01782162190925431, 0.016150690716823193, 0.016210811653320171, 0.016332448082171113, 0.018630524682989393, 0.016596624432887626, 0.014578655449601808, 0.016827121070484227, 0.016880985186425463, 0.016823438020468203, 0.014819311073594053, 0.014957326884829685, 0.015284717728342324, 0.01683265691847315, 0.015879021599164236, 0.017916507397015946, 0.016245656737330173, 0.017377071693653889, 0.015916486993384889, 0.016271380057122746, 0.016341950434925, 0.016064464224868576, 0.014512588376421243, 0.0156583563803223, 0.01634951798473562, 0.016606794765834518, 0.014923301183571429, 0.016376349563835709, 0.01481601411840548, 0.015901842259864664, 0.016168111418402395, 0.016374745765215186, 0.016215876319241013, 0.015294646034475659, 0.016503225730955664, 0.015779363245476529, 0.017348654584212357, 0.014315822503765492, 0.014861829529201752, 0.017071248266049884, 0.016232006554165603, 0.015351814185590748, 0.015355302792750851, 0.015643951463849587, 0.016072933051893633, 0.015962598651934154, 0.014571975209960588, 0.01606060375335476, 0.017878105803895157, 0.01764453093120744, 0.015861368420272717, 0.016372071737443709, 0.014672987535578868, 0.017090601460993494, 0.015027295787064496, 0.016485199632759691, 0.014208506642419539, 0.016047958723347643, 0.015710954058352069, 0.014237670671114311, 0.0151431215250041, 0.016865670555451896, 0.015115547688674564, 0.014461889163762211, 0.016108600201074044, 0.015895365104802842, 0.015833891491533816, 0.015383915356703181, 0.016258680685703186, 0.017626328470832994, 0.015426665208272027, 0.015743473197759254, 0.01543045095226483, 0.015657265054590887, 0.014376981025039948, 0.015602215811855247, 0.016412396266434648, 0.016188859390233568, 0.017319364764080313, 0.016176353111872911]\n"
     ]
    }
   ],
   "source": [
    "# your code here\n",
    "# TODO: check this, you wrote it really late at night\n",
    "mean_of_sample_means = []\n",
    "std_dev_of_sample_means = []\n",
    "for size in sample_sizes:\n",
    "    throw_means = make_throws(number_of_samples=200, sample_size=size)\n",
    "    mean_of_sample_means.append(np.mean(throw_means))\n",
    "    std_dev_of_sample_means.append(np.std(throw_means))\n",
    "print(std_dev_of_sample_means) "
   ]
  },
  {
   "cell_type": "code",
   "execution_count": 15,
   "metadata": {},
   "outputs": [
    {
     "data": {
      "text/plain": [
       "(10, 0.53000000000000003, 0.49909918853871116)"
      ]
     },
     "execution_count": 15,
     "metadata": {},
     "output_type": "execute_result"
    }
   ],
   "source": [
    "# mean and std of 200 means from 200 replications, each of size 10\n",
    "trials[0], mean_of_sample_means[0], std_dev_of_sample_means[0] "
   ]
  },
  {
   "cell_type": "code",
   "execution_count": 16,
   "metadata": {},
   "outputs": [
    {
     "data": {
      "image/png": "[encoded data removed]",
      "text/plain": [
       "<matplotlib.figure.Figure at 0x11505fef0>"
      ]
     },
     "metadata": {},
     "output_type": "display_data"
    }
   ],
   "source": [
    "plt.plot(sample_sizes, mean_of_sample_means);\n",
    "plt.ylim([0.480,0.520]);\n",
    "plt.xlabel(\"sample sizes\")\n",
    "plt.ylabel(\"mean probability of heads\")\n",
    "plt.title(\"Mean of sample means over 200 replications\");"
   ]
  },
  {
   "cell_type": "markdown",
   "metadata": {},
   "source": [
    "Explain what you see about this \"mean of sampling means\".\n",
    "\n",
    "*It trends towards 0.5 with increasing sample size.  This is because the larger the number of coin tosses you do, the more likely you are to get a ratio of heads:tails that's 1:1 (law of large numbers). * \n"
   ]
  },
  {
   "cell_type": "markdown",
   "metadata": {},
   "source": [
    "### Q4. What distribution do the sampling means follow?\n",
    "\n",
    "Store in variables `sampling_means_at_size_100` and `sampling_means_at_size_1000` the set of sampling means at sample sizes of 100 and 1000 respectively, still with 200 replications. We will plot in a histogram below these distributions. What type of distributions are these, roughly? How do these distributions vary with sample size?"
   ]
  },
  {
   "cell_type": "code",
   "execution_count": 26,
   "metadata": {},
   "outputs": [],
   "source": [
    "# your code here\n",
    "sampling_means_at_size_100 = make_throws(200, 100)\n",
    "sampling_means_at_size_1000 = make_throws(200, 1000)"
   ]
  },
  {
   "cell_type": "code",
   "execution_count": 27,
   "metadata": {},
   "outputs": [
    {
     "data": {
      "image/png": "[encoded data removed]",
      "text/plain": [
       "<matplotlib.figure.Figure at 0x118d40ef0>"
      ]
     },
     "metadata": {},
     "output_type": "display_data"
    }
   ],
   "source": [
    "plt.hist(sampling_means_at_size_100, alpha=0.3, label=\"100\", bins=10)\n",
    "plt.hist(sampling_means_at_size_1000, alpha=0.3, label=\"1000\", bins=10)\n",
    "plt.legend();\n",
    "plt.title(\"Sampling distributions at different sample sizes and for 200 replications\");"
   ]
  },
  {
   "cell_type": "markdown",
   "metadata": {},
   "source": [
    "What type of distributions are these, roughly? How do these distributions vary with sample size?\n",
    "\n",
    "*These look roughly like normal distributions that get more tightly distributed (smaller std. deviation) with increased sample size. *\n"
   ]
  },
  {
   "cell_type": "markdown",
   "metadata": {},
   "source": [
    "### Q5. How does the standard error of the sample mean vary with sample size? Create a plot to illustrate how it varies over various sample sizes.\n",
    "\n",
    "Hint: you might want to take logarithms for one of your axes"
   ]
  },
  {
   "cell_type": "code",
   "execution_count": 19,
   "metadata": {
    "collapsed": true
   },
   "outputs": [],
   "source": [
    "# your code here\n"
   ]
  },
  {
   "cell_type": "markdown",
   "metadata": {},
   "source": [
    "How does the standard error of the sample mean vary with sample size?\n",
    "\n",
    "*your answer here*\n"
   ]
  }
 ],
 "metadata": {
  "anaconda-cloud": {},
  "kernelspec": {
   "display_name": "Python 3",
   "language": "python",
   "name": "python3"
  },
  "language_info": {
   "codemirror_mode": {
    "name": "ipython",
    "version": 3
   },
   "file_extension": ".py",
   "mimetype": "text/x-python",
   "name": "python",
   "nbconvert_exporter": "python",
   "pygments_lexer": "ipython3",
   "version": "3.6.1"
  }
 },
 "nbformat": 4,
 "nbformat_minor": 1
}
